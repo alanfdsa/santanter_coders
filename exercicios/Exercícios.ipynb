{
 "cells": [
  {
   "cell_type": "markdown",
   "id": "865c206a",
   "metadata": {
    "heading_collapsed": true
   },
   "source": [
    "# Módulo 1"
   ]
  },
  {
   "cell_type": "markdown",
   "id": "01465ff2",
   "metadata": {
    "heading_collapsed": true,
    "hidden": true
   },
   "source": [
    "## Exercício 1"
   ]
  },
  {
   "cell_type": "markdown",
   "id": "ca7b19a3",
   "metadata": {
    "hidden": true
   },
   "source": [
    "Faça um programa que peça um valor monetário e diminua-o em 15%. Seu \n",
    "programa deve imprimir a mensagem “O novo valor é [valor]”."
   ]
  },
  {
   "cell_type": "code",
   "execution_count": 73,
   "id": "8ab4a905",
   "metadata": {
    "hidden": true
   },
   "outputs": [
    {
     "name": "stdout",
     "output_type": "stream",
     "text": [
      "Digite o valor monetário: 1500\n",
      "O novo valor é 1275.0 reais.\n"
     ]
    }
   ],
   "source": [
    "valor = float(input('Digite o valor monetário: '))\n",
    "print(f'O novo valor é {valor*0.85} reais.')"
   ]
  },
  {
   "cell_type": "markdown",
   "id": "9a520919",
   "metadata": {
    "heading_collapsed": true,
    "hidden": true
   },
   "source": [
    "## Exercício 2"
   ]
  },
  {
   "cell_type": "markdown",
   "id": "21a9c7ff",
   "metadata": {
    "hidden": true
   },
   "source": [
    "Faça um programa que leia a validade das informações:\n",
    "a. Idade: entre 0 e 150;\n",
    "b. Salário: maior que 0;\n",
    "c. Sexo: M, F ou Outro;\n",
    "O programa deve imprimir uma mensagem de erro para cada informação \n",
    "inválida."
   ]
  },
  {
   "cell_type": "code",
   "execution_count": 72,
   "id": "96180e53",
   "metadata": {
    "hidden": true
   },
   "outputs": [
    {
     "name": "stdout",
     "output_type": "stream",
     "text": [
      "Digite uma idade netre 0 e 150 anos: 25\n",
      "Digite um valor de salário2000\n",
      "Digite seu sexo: \n",
      " M - Masculino \n",
      " F - Feminino \n",
      " O - OutroM\n",
      "Você tem 25 anos, recebe 2000.0 reais e é do sexo M.\n"
     ]
    }
   ],
   "source": [
    "idade = int(input('Digite uma idade netre 0 e 150 anos: '))\n",
    "while idade < 0 or idade > 150:\n",
    "    print('Você digitou uma idade inválida, gostaria de tentar novamente?')\n",
    "    resp = int(input('1 - Sim \\n2 - Não\\n'))\n",
    "    if resp == 1:\n",
    "        idade = int(input('Digite uma idade entre 0 e 150 anos: '))\n",
    "    else:\n",
    "        break\n",
    "    \n",
    "    \n",
    "salario = float(input('Digite um valor de salário'))\n",
    "while idade < 0 or idade > 150:\n",
    "    print('Você digitou um salário inválido, gostaria de tentar novamente?')\n",
    "    resp = int(input('1 - Sim \\n2 - Não\\n'))\n",
    "    if resp == 1:\n",
    "        salario = int(input('Digite um novo valor de salário: '))\n",
    "    else:\n",
    "        break\n",
    "\n",
    "sexo = input('Digite seu sexo: \\n M - Masculino \\n F - Feminino \\n O - Outro')\n",
    "while idade < 0 or idade > 150:\n",
    "    print('Você digitou um sexo inválido, gostaria de tentar novamente?')\n",
    "    resp = int(input('1 - Sim \\n2 - Não\\n'))\n",
    "    if resp == 1:\n",
    "        sexo = int(input('Digite uma idade entre 0 e 150 anos: '))\n",
    "    else:\n",
    "        break\n",
    " \n",
    "print(f'Você tem {idade} anos, recebe {salario} reais e é do sexo {sexo}.')"
   ]
  },
  {
   "cell_type": "markdown",
   "id": "ada3a40d",
   "metadata": {
    "hidden": true
   },
   "source": [
    "Imprima as chaves seguidas dos seus valores para dicionário criado no \n",
    "exercício anterior.\n",
    "Exemplo:\n",
    "Janeiro - 31\n",
    "Fevereiro - 28\n",
    "Março - 31\n",
    "Etc.."
   ]
  },
  {
   "cell_type": "markdown",
   "id": "056749f0",
   "metadata": {
    "heading_collapsed": true,
    "hidden": true
   },
   "source": [
    "## Exercício 3"
   ]
  },
  {
   "cell_type": "markdown",
   "id": "3c516e1c",
   "metadata": {
    "hidden": true
   },
   "source": [
    "3. Vamos fazer um programa para verificar quem é o assassino de um crime. \n",
    "Para descobrir o assassino, a polícia faz um pequeno questionário com 5 \n",
    "perguntas onde a resposta só pode ser sim ou não:\n",
    "a. Mora perto da vítima?\n",
    "b. Já trabalhou com a vítima?\n",
    "c. Telefonou para a vítima?\n",
    "d. Esteve no local do crime?\n",
    "e. Devia para a vítima?\n",
    "Cada resposta sim dá um ponto para o suspeito. A polícia considera que os \n",
    "suspeitos com 5 pontos são os assassinos, com 4 a 3 pontos são cúmplices e \n",
    "2 pontos são apenas suspeitos, necessitando outras investigações. Valores \n",
    "iguais ou abaixo de 1 são liberados.\n"
   ]
  },
  {
   "cell_type": "code",
   "execution_count": 88,
   "id": "6d7de223",
   "metadata": {
    "hidden": true,
    "scrolled": false
   },
   "outputs": [
    {
     "name": "stdout",
     "output_type": "stream",
     "text": [
      "--------------------\n",
      "a) Mora perto da vítima?\n",
      "0 - Não\n",
      "1 - Sim\n",
      "1\n",
      "--------------------\n",
      "b) Já trabalhou com a vítima?\n",
      "0 - Não\n",
      "1 - Sim\n",
      "1\n",
      "--------------------\n",
      "c) Telefonou para a vítima?\n",
      "0 - Não\n",
      "1 - Sim\n",
      "1\n",
      "--------------------\n",
      "d) Esteve no local do crime?\n",
      "0 - Não\n",
      "1 - Sim\n",
      "1\n",
      "--------------------\n",
      "e) Devia para a vítima?\n",
      "0 - Não\n",
      "1 - Sim\n",
      "1\n",
      "--------------------\n",
      "Assassino\n"
     ]
    }
   ],
   "source": [
    "cont = []\n",
    "\n",
    "print('-'*20)\n",
    "p1 = int(input('a) Mora perto da vítima?\\n0 - Não\\n1 - Sim\\n'))\n",
    "cont.append(p1)\n",
    "print('-'*20)\n",
    "p2 = int(input('b) Já trabalhou com a vítima?\\n0 - Não\\n1 - Sim\\n'))\n",
    "cont.append(p2)\n",
    "print('-'*20)\n",
    "p3 = int(input('c) Telefonou para a vítima?\\n0 - Não\\n1 - Sim\\n'))\n",
    "cont.append(p3)\n",
    "print('-'*20)\n",
    "p4 = int(input('d) Esteve no local do crime?\\n0 - Não\\n1 - Sim\\n'))\n",
    "cont.append(p4)\n",
    "print('-'*20)\n",
    "p5 = int(input('e) Devia para a vítima?\\n0 - Não\\n1 - Sim\\n'))\n",
    "cont.append(p5)\n",
    "print('-'*20)\n",
    "\n",
    "soma = sum(cont)\n",
    "\n",
    "if soma==5:\n",
    "    print('Assassino')\n",
    "elif soma==4 or soma==3:\n",
    "    print('Cúmplice')\n",
    "elif soma==2:\n",
    "    print('Suspeito')\n",
    "else:\n",
    "    print('Liberado')"
   ]
  },
  {
   "cell_type": "markdown",
   "id": "5942dd86",
   "metadata": {
    "heading_collapsed": true,
    "hidden": true
   },
   "source": [
    "## Exercício 4"
   ]
  },
  {
   "cell_type": "markdown",
   "id": "c36311ce",
   "metadata": {
    "hidden": true
   },
   "source": [
    "4. Faça um programa que imprima a tabuada do 9 (de 9X1 a 9X10) usando loops."
   ]
  },
  {
   "cell_type": "code",
   "execution_count": 96,
   "id": "28f20009",
   "metadata": {
    "hidden": true
   },
   "outputs": [
    {
     "name": "stdout",
     "output_type": "stream",
     "text": [
      "Digite o número que quer a tabuada: 9\n",
      "--------------------\n",
      "1 X 9 = 9\n",
      "2 X 9 = 18\n",
      "3 X 9 = 27\n",
      "4 X 9 = 36\n",
      "5 X 9 = 45\n",
      "6 X 9 = 54\n",
      "7 X 9 = 63\n",
      "8 X 9 = 72\n",
      "9 X 9 = 81\n",
      "10 X 9 = 90\n",
      "--------------------\n"
     ]
    }
   ],
   "source": [
    "num = int(input('Digite o número que quer a tabuada: '))\n",
    "i = 1\n",
    "print('-'*20)\n",
    "while i <= 10:\n",
    "    print(f'{i} X {num} = {i*num}')\n",
    "    i+=1\n",
    "print('-'*20)"
   ]
  },
  {
   "cell_type": "markdown",
   "id": "8296e677",
   "metadata": {
    "heading_collapsed": true
   },
   "source": [
    "# Módulo 2"
   ]
  },
  {
   "cell_type": "markdown",
   "id": "061db85e",
   "metadata": {
    "heading_collapsed": true,
    "hidden": true
   },
   "source": [
    "## Exercício 1"
   ]
  },
  {
   "cell_type": "markdown",
   "id": "b8a9f52a",
   "metadata": {
    "hidden": true
   },
   "source": [
    "Faça um programa que olhe todos os itens de uma lista e diga quantos deles \n",
    "são pares.\n"
   ]
  },
  {
   "cell_type": "code",
   "execution_count": 142,
   "id": "cdf90cce",
   "metadata": {
    "hidden": true
   },
   "outputs": [],
   "source": [
    "def pares(lista):\n",
    "    cont = 0\n",
    "    for i in range(0,len(lista)):\n",
    "        if lista[i]%2==0:\n",
    "            cont = cont + 1\n",
    "    return print(f'Existem {cont} números pares na lista.')"
   ]
  },
  {
   "cell_type": "code",
   "execution_count": 143,
   "id": "ed84ab68",
   "metadata": {
    "hidden": true,
    "scrolled": true
   },
   "outputs": [
    {
     "name": "stdout",
     "output_type": "stream",
     "text": [
      "Existem 3 números pares na lista.\n"
     ]
    }
   ],
   "source": [
    "pares([6,3,8,1,77,4])"
   ]
  },
  {
   "cell_type": "markdown",
   "id": "dc24d225",
   "metadata": {
    "heading_collapsed": true,
    "hidden": true
   },
   "source": [
    "## Exercício 2"
   ]
  },
  {
   "cell_type": "markdown",
   "id": "7808624f",
   "metadata": {
    "hidden": true
   },
   "source": [
    "Faça um programa que peça para o usuário digitar uma palavra e imprima \n",
    "cada letra em uma linha."
   ]
  },
  {
   "cell_type": "code",
   "execution_count": 145,
   "id": "384474d0",
   "metadata": {
    "hidden": true
   },
   "outputs": [
    {
     "name": "stdout",
     "output_type": "stream",
     "text": [
      "Digite uma palavra:Física\n",
      "F\n",
      "í\n",
      "s\n",
      "i\n",
      "c\n",
      "a\n"
     ]
    }
   ],
   "source": [
    "palavra = input('Digite uma palavra:')\n",
    "\n",
    "for letra in palavra:\n",
    "    print(letra)"
   ]
  },
  {
   "cell_type": "markdown",
   "id": "6df9943d",
   "metadata": {
    "heading_collapsed": true,
    "hidden": true
   },
   "source": [
    "## Exercício 3"
   ]
  },
  {
   "cell_type": "markdown",
   "id": "5324caa9",
   "metadata": {
    "hidden": true
   },
   "source": [
    "Faça uma função que recebe duas listas e retorna a soma item a item dessas \n",
    "listas.\n",
    "Exemplo: Se a função receber as listas [1,4,3] e [3,5,1], então a função deve \n",
    "retornar [1+3, 4+5, 3+1] = [4, 9, 4]."
   ]
  },
  {
   "cell_type": "code",
   "execution_count": 68,
   "id": "11470d09",
   "metadata": {
    "hidden": true
   },
   "outputs": [],
   "source": [
    "def soma(lista1,lista2):\n",
    "    listasoma=[]\n",
    "    max = min(len(lista1),len(lista2))\n",
    "    \n",
    "    for i in range(0,max):\n",
    "        soma = lista1[i] + lista2[i]\n",
    "        listasoma.append(soma)\n",
    "    return listasoma"
   ]
  },
  {
   "cell_type": "code",
   "execution_count": 69,
   "id": "380b61ba",
   "metadata": {
    "hidden": true,
    "scrolled": true
   },
   "outputs": [
    {
     "data": {
      "text/plain": [
       "[4, 9, 4]"
      ]
     },
     "execution_count": 69,
     "metadata": {},
     "output_type": "execute_result"
    }
   ],
   "source": [
    "soma([1,4,3],[3,5,1])"
   ]
  },
  {
   "cell_type": "markdown",
   "id": "82204e60",
   "metadata": {
    "heading_collapsed": true,
    "hidden": true
   },
   "source": [
    "## Exercício 4"
   ]
  },
  {
   "cell_type": "markdown",
   "id": "8d8f29e5",
   "metadata": {
    "hidden": true
   },
   "source": [
    "Crie um dicionário cujas chaves são os meses do ano e os valores são a duração (em dias) de cada mês."
   ]
  },
  {
   "cell_type": "code",
   "execution_count": 146,
   "id": "1e4ddfdd",
   "metadata": {
    "hidden": true
   },
   "outputs": [],
   "source": [
    "dic={'Janeiro':30,\n",
    "    'Fevereiro':28,\n",
    "    'Março':31,\n",
    "    'Abril':29,\n",
    "    'Maio':28,\n",
    "    'Junho':30,\n",
    "    'Julho':31,\n",
    "    'Agosto':30,\n",
    "    'Setembro':28,\n",
    "    'Outubro':29,\n",
    "    'Novembro':30,\n",
    "    'Dezembro':31}"
   ]
  },
  {
   "cell_type": "code",
   "execution_count": 147,
   "id": "5b56be6f",
   "metadata": {
    "hidden": true,
    "scrolled": true
   },
   "outputs": [
    {
     "data": {
      "text/plain": [
       "{'Janeiro': 30,\n",
       " 'Fevereiro': 28,\n",
       " 'Março': 31,\n",
       " 'Abril': 29,\n",
       " 'Maio': 28,\n",
       " 'Junho': 30,\n",
       " 'Julho': 31,\n",
       " 'Agosto': 30,\n",
       " 'Setembro': 28,\n",
       " 'Outubro': 29,\n",
       " 'Novembro': 30,\n",
       " 'Dezembro': 31}"
      ]
     },
     "execution_count": 147,
     "metadata": {},
     "output_type": "execute_result"
    }
   ],
   "source": [
    "dic"
   ]
  },
  {
   "cell_type": "markdown",
   "id": "79c915e5",
   "metadata": {
    "heading_collapsed": true,
    "hidden": true
   },
   "source": [
    "## Exercício 5"
   ]
  },
  {
   "cell_type": "markdown",
   "id": "c2eb3329",
   "metadata": {
    "hidden": true
   },
   "source": [
    "Imprima as chaves seguidas dos seus valores para dicionário criado no \n",
    "exercício anterior.\n",
    "Exemplo:\n",
    "Janeiro - 31\n",
    "Fevereiro - 28\n",
    "Março - 31\n",
    "Etc..."
   ]
  },
  {
   "cell_type": "code",
   "execution_count": 156,
   "id": "e1ab78f9",
   "metadata": {
    "hidden": true
   },
   "outputs": [
    {
     "name": "stdout",
     "output_type": "stream",
     "text": [
      "Janeiro - 30\n",
      "Fevereiro - 28\n",
      "Março - 31\n",
      "Abril - 29\n",
      "Maio - 28\n",
      "Junho - 30\n",
      "Julho - 31\n",
      "Agosto - 30\n",
      "Setembro - 28\n",
      "Outubro - 29\n",
      "Novembro - 30\n",
      "Dezembro - 31\n"
     ]
    }
   ],
   "source": [
    "for chave in dic:\n",
    "    print(f'{chave} - {dic[chave]}')"
   ]
  },
  {
   "cell_type": "markdown",
   "id": "39b18fe5",
   "metadata": {
    "heading_collapsed": true
   },
   "source": [
    "# Módulo 3 (Pandas)"
   ]
  },
  {
   "cell_type": "markdown",
   "id": "7b0b4ea6",
   "metadata": {
    "heading_collapsed": true,
    "hidden": true
   },
   "source": [
    "## Exercício 1"
   ]
  },
  {
   "cell_type": "markdown",
   "id": "ebb320de",
   "metadata": {
    "hidden": true
   },
   "source": [
    " Neste exercício você deve criar um programa que abra o arquivo \n",
    "\"alunos.csv\" e imprima o conteúdo do arquivo linha a linha.\n",
    "Note que esse é o primeiro exercício de uma sequência, então o seu código \n",
    "pode ser reaproveitado nos exercícios seguintes. Dito isso, a recomendação é \n",
    "usar a biblioteca CSV para ler o arquivo mesmo que não seja realmente \n",
    "necessário para esse primeiro item"
   ]
  },
  {
   "cell_type": "code",
   "execution_count": 158,
   "id": "60ff6ec6",
   "metadata": {
    "hidden": true
   },
   "outputs": [],
   "source": [
    "import pandas as pd"
   ]
  },
  {
   "cell_type": "code",
   "execution_count": 159,
   "id": "3b0964ba",
   "metadata": {
    "hidden": true
   },
   "outputs": [],
   "source": [
    "df = pd.read_csv('alunos.csv')"
   ]
  },
  {
   "cell_type": "code",
   "execution_count": 160,
   "id": "d0f01763",
   "metadata": {
    "hidden": true
   },
   "outputs": [
    {
     "data": {
      "text/html": [
       "<div>\n",
       "<style scoped>\n",
       "    .dataframe tbody tr th:only-of-type {\n",
       "        vertical-align: middle;\n",
       "    }\n",
       "\n",
       "    .dataframe tbody tr th {\n",
       "        vertical-align: top;\n",
       "    }\n",
       "\n",
       "    .dataframe thead th {\n",
       "        text-align: right;\n",
       "    }\n",
       "</style>\n",
       "<table border=\"1\" class=\"dataframe\">\n",
       "  <thead>\n",
       "    <tr style=\"text-align: right;\">\n",
       "      <th></th>\n",
       "      <th>RA</th>\n",
       "      <th>Nome</th>\n",
       "      <th>Frequencia</th>\n",
       "      <th>Prova_1</th>\n",
       "      <th>Prova_2</th>\n",
       "      <th>Prova_3</th>\n",
       "      <th>Prova_4</th>\n",
       "    </tr>\n",
       "  </thead>\n",
       "  <tbody>\n",
       "    <tr>\n",
       "      <th>0</th>\n",
       "      <td>110201</td>\n",
       "      <td>Antonio Carlos</td>\n",
       "      <td>20</td>\n",
       "      <td>6.5</td>\n",
       "      <td>8.5</td>\n",
       "      <td>7.0</td>\n",
       "      <td>6</td>\n",
       "    </tr>\n",
       "    <tr>\n",
       "      <th>1</th>\n",
       "      <td>110212</td>\n",
       "      <td>Ana Beatriz</td>\n",
       "      <td>20</td>\n",
       "      <td>7.0</td>\n",
       "      <td>7.0</td>\n",
       "      <td>7.0</td>\n",
       "      <td>8</td>\n",
       "    </tr>\n",
       "    <tr>\n",
       "      <th>2</th>\n",
       "      <td>110218</td>\n",
       "      <td>Carlos Vernes</td>\n",
       "      <td>17</td>\n",
       "      <td>7.0</td>\n",
       "      <td>7.0</td>\n",
       "      <td>7.0</td>\n",
       "      <td>7</td>\n",
       "    </tr>\n",
       "    <tr>\n",
       "      <th>3</th>\n",
       "      <td>110307</td>\n",
       "      <td>Francisco Cunha</td>\n",
       "      <td>20</td>\n",
       "      <td>9.0</td>\n",
       "      <td>8.5</td>\n",
       "      <td>8.5</td>\n",
       "      <td>10</td>\n",
       "    </tr>\n",
       "    <tr>\n",
       "      <th>4</th>\n",
       "      <td>110275</td>\n",
       "      <td>Sandra Rosa</td>\n",
       "      <td>15</td>\n",
       "      <td>6.5</td>\n",
       "      <td>7.5</td>\n",
       "      <td>7.0</td>\n",
       "      <td>7</td>\n",
       "    </tr>\n",
       "    <tr>\n",
       "      <th>5</th>\n",
       "      <td>110281</td>\n",
       "      <td>Juliana Arruda</td>\n",
       "      <td>18</td>\n",
       "      <td>7.5</td>\n",
       "      <td>7.0</td>\n",
       "      <td>7.5</td>\n",
       "      <td>8</td>\n",
       "    </tr>\n",
       "    <tr>\n",
       "      <th>6</th>\n",
       "      <td>110301</td>\n",
       "      <td>Joao Galo</td>\n",
       "      <td>20</td>\n",
       "      <td>5.0</td>\n",
       "      <td>6.5</td>\n",
       "      <td>7.0</td>\n",
       "      <td>5</td>\n",
       "    </tr>\n",
       "    <tr>\n",
       "      <th>7</th>\n",
       "      <td>110263</td>\n",
       "      <td>José Valente</td>\n",
       "      <td>20</td>\n",
       "      <td>10.0</td>\n",
       "      <td>10.0</td>\n",
       "      <td>10.0</td>\n",
       "      <td>10</td>\n",
       "    </tr>\n",
       "    <tr>\n",
       "      <th>8</th>\n",
       "      <td>110271</td>\n",
       "      <td>Maria Ferreira</td>\n",
       "      <td>19</td>\n",
       "      <td>9.5</td>\n",
       "      <td>8.0</td>\n",
       "      <td>7.0</td>\n",
       "      <td>10</td>\n",
       "    </tr>\n",
       "    <tr>\n",
       "      <th>9</th>\n",
       "      <td>110236</td>\n",
       "      <td>Adriana Tavares</td>\n",
       "      <td>20</td>\n",
       "      <td>8.0</td>\n",
       "      <td>8.0</td>\n",
       "      <td>8.0</td>\n",
       "      <td>8</td>\n",
       "    </tr>\n",
       "  </tbody>\n",
       "</table>\n",
       "</div>"
      ],
      "text/plain": [
       "       RA             Nome  Frequencia  Prova_1  Prova_2  Prova_3  Prova_4\n",
       "0  110201   Antonio Carlos          20      6.5      8.5      7.0        6\n",
       "1  110212      Ana Beatriz          20      7.0      7.0      7.0        8\n",
       "2  110218    Carlos Vernes          17      7.0      7.0      7.0        7\n",
       "3  110307  Francisco Cunha          20      9.0      8.5      8.5       10\n",
       "4  110275      Sandra Rosa          15      6.5      7.5      7.0        7\n",
       "5  110281   Juliana Arruda          18      7.5      7.0      7.5        8\n",
       "6  110301        Joao Galo          20      5.0      6.5      7.0        5\n",
       "7  110263     José Valente          20     10.0     10.0     10.0       10\n",
       "8  110271   Maria Ferreira          19      9.5      8.0      7.0       10\n",
       "9  110236  Adriana Tavares          20      8.0      8.0      8.0        8"
      ]
     },
     "execution_count": 160,
     "metadata": {},
     "output_type": "execute_result"
    }
   ],
   "source": [
    "df"
   ]
  },
  {
   "cell_type": "markdown",
   "id": "febb9a4d",
   "metadata": {
    "heading_collapsed": true,
    "hidden": true
   },
   "source": [
    "## Exercício 2"
   ]
  },
  {
   "cell_type": "markdown",
   "id": "c7d1ccdb",
   "metadata": {
    "hidden": true
   },
   "source": [
    " Para o segundo exercício, você deve criar um programa que realize uma \n",
    "cópia do arquivo \"alunos.csv\". Essa cópia deve ser um arquivo chamado \n",
    "\"alunos_copia.csv\".\n",
    "Novamente, aqui você também não precisa utilizar a biblioteca CSV mas se \n",
    "usar, seu código pode ser reutilizado na próxima questão sem muitas \n",
    "modificações.\n"
   ]
  },
  {
   "cell_type": "code",
   "execution_count": 161,
   "id": "d46e62fa",
   "metadata": {
    "hidden": true
   },
   "outputs": [],
   "source": [
    "alunos_copia = df.copy()"
   ]
  },
  {
   "cell_type": "code",
   "execution_count": 162,
   "id": "88810977",
   "metadata": {
    "hidden": true
   },
   "outputs": [
    {
     "data": {
      "text/html": [
       "<div>\n",
       "<style scoped>\n",
       "    .dataframe tbody tr th:only-of-type {\n",
       "        vertical-align: middle;\n",
       "    }\n",
       "\n",
       "    .dataframe tbody tr th {\n",
       "        vertical-align: top;\n",
       "    }\n",
       "\n",
       "    .dataframe thead th {\n",
       "        text-align: right;\n",
       "    }\n",
       "</style>\n",
       "<table border=\"1\" class=\"dataframe\">\n",
       "  <thead>\n",
       "    <tr style=\"text-align: right;\">\n",
       "      <th></th>\n",
       "      <th>RA</th>\n",
       "      <th>Nome</th>\n",
       "      <th>Frequencia</th>\n",
       "      <th>Prova_1</th>\n",
       "      <th>Prova_2</th>\n",
       "      <th>Prova_3</th>\n",
       "      <th>Prova_4</th>\n",
       "    </tr>\n",
       "  </thead>\n",
       "  <tbody>\n",
       "    <tr>\n",
       "      <th>0</th>\n",
       "      <td>110201</td>\n",
       "      <td>Antonio Carlos</td>\n",
       "      <td>20</td>\n",
       "      <td>6.5</td>\n",
       "      <td>8.5</td>\n",
       "      <td>7.0</td>\n",
       "      <td>6</td>\n",
       "    </tr>\n",
       "    <tr>\n",
       "      <th>1</th>\n",
       "      <td>110212</td>\n",
       "      <td>Ana Beatriz</td>\n",
       "      <td>20</td>\n",
       "      <td>7.0</td>\n",
       "      <td>7.0</td>\n",
       "      <td>7.0</td>\n",
       "      <td>8</td>\n",
       "    </tr>\n",
       "    <tr>\n",
       "      <th>2</th>\n",
       "      <td>110218</td>\n",
       "      <td>Carlos Vernes</td>\n",
       "      <td>17</td>\n",
       "      <td>7.0</td>\n",
       "      <td>7.0</td>\n",
       "      <td>7.0</td>\n",
       "      <td>7</td>\n",
       "    </tr>\n",
       "    <tr>\n",
       "      <th>3</th>\n",
       "      <td>110307</td>\n",
       "      <td>Francisco Cunha</td>\n",
       "      <td>20</td>\n",
       "      <td>9.0</td>\n",
       "      <td>8.5</td>\n",
       "      <td>8.5</td>\n",
       "      <td>10</td>\n",
       "    </tr>\n",
       "    <tr>\n",
       "      <th>4</th>\n",
       "      <td>110275</td>\n",
       "      <td>Sandra Rosa</td>\n",
       "      <td>15</td>\n",
       "      <td>6.5</td>\n",
       "      <td>7.5</td>\n",
       "      <td>7.0</td>\n",
       "      <td>7</td>\n",
       "    </tr>\n",
       "    <tr>\n",
       "      <th>5</th>\n",
       "      <td>110281</td>\n",
       "      <td>Juliana Arruda</td>\n",
       "      <td>18</td>\n",
       "      <td>7.5</td>\n",
       "      <td>7.0</td>\n",
       "      <td>7.5</td>\n",
       "      <td>8</td>\n",
       "    </tr>\n",
       "    <tr>\n",
       "      <th>6</th>\n",
       "      <td>110301</td>\n",
       "      <td>Joao Galo</td>\n",
       "      <td>20</td>\n",
       "      <td>5.0</td>\n",
       "      <td>6.5</td>\n",
       "      <td>7.0</td>\n",
       "      <td>5</td>\n",
       "    </tr>\n",
       "    <tr>\n",
       "      <th>7</th>\n",
       "      <td>110263</td>\n",
       "      <td>José Valente</td>\n",
       "      <td>20</td>\n",
       "      <td>10.0</td>\n",
       "      <td>10.0</td>\n",
       "      <td>10.0</td>\n",
       "      <td>10</td>\n",
       "    </tr>\n",
       "    <tr>\n",
       "      <th>8</th>\n",
       "      <td>110271</td>\n",
       "      <td>Maria Ferreira</td>\n",
       "      <td>19</td>\n",
       "      <td>9.5</td>\n",
       "      <td>8.0</td>\n",
       "      <td>7.0</td>\n",
       "      <td>10</td>\n",
       "    </tr>\n",
       "    <tr>\n",
       "      <th>9</th>\n",
       "      <td>110236</td>\n",
       "      <td>Adriana Tavares</td>\n",
       "      <td>20</td>\n",
       "      <td>8.0</td>\n",
       "      <td>8.0</td>\n",
       "      <td>8.0</td>\n",
       "      <td>8</td>\n",
       "    </tr>\n",
       "  </tbody>\n",
       "</table>\n",
       "</div>"
      ],
      "text/plain": [
       "       RA             Nome  Frequencia  Prova_1  Prova_2  Prova_3  Prova_4\n",
       "0  110201   Antonio Carlos          20      6.5      8.5      7.0        6\n",
       "1  110212      Ana Beatriz          20      7.0      7.0      7.0        8\n",
       "2  110218    Carlos Vernes          17      7.0      7.0      7.0        7\n",
       "3  110307  Francisco Cunha          20      9.0      8.5      8.5       10\n",
       "4  110275      Sandra Rosa          15      6.5      7.5      7.0        7\n",
       "5  110281   Juliana Arruda          18      7.5      7.0      7.5        8\n",
       "6  110301        Joao Galo          20      5.0      6.5      7.0        5\n",
       "7  110263     José Valente          20     10.0     10.0     10.0       10\n",
       "8  110271   Maria Ferreira          19      9.5      8.0      7.0       10\n",
       "9  110236  Adriana Tavares          20      8.0      8.0      8.0        8"
      ]
     },
     "execution_count": 162,
     "metadata": {},
     "output_type": "execute_result"
    }
   ],
   "source": [
    "alunos_copia"
   ]
  },
  {
   "cell_type": "markdown",
   "id": "692c4b06",
   "metadata": {
    "heading_collapsed": true,
    "hidden": true
   },
   "source": [
    "## Exercício 3"
   ]
  },
  {
   "cell_type": "markdown",
   "id": "3e94e306",
   "metadata": {
    "hidden": true
   },
   "source": [
    "Finalmente chegamos ao último exercício dessa sequência relacionada à \n",
    "manipulação de arquivos.\n",
    "Neste exercício você deve criar um novo arquivo chamado \n",
    "\"alunos_media.csv\". Esse novo arquivo é uma cópia de \"alunos.csv\" porém \n",
    "com uma coluna a mais chamada \"Média\" que vai abrigar os valores das \n",
    "médias das provas de cada aluno da lista.\n",
    "Se você utilizou a biblioteca CSV para realizar os dois primeiros exercícios, \n",
    "muito será reaproveitado aqui. A biblioteca CSV permite a interpretação de \n",
    "cada linha como listas, que são fáceis de manipular.\n"
   ]
  },
  {
   "cell_type": "code",
   "execution_count": 165,
   "id": "1c19634a",
   "metadata": {
    "hidden": true
   },
   "outputs": [],
   "source": [
    "alunos_copia['Media'] = round((df['Prova_1'] + df['Prova_2'] + df['Prova_3'] + df['Prova_4'])/4)"
   ]
  },
  {
   "cell_type": "code",
   "execution_count": 166,
   "id": "170d8707",
   "metadata": {
    "hidden": true
   },
   "outputs": [
    {
     "data": {
      "text/html": [
       "<div>\n",
       "<style scoped>\n",
       "    .dataframe tbody tr th:only-of-type {\n",
       "        vertical-align: middle;\n",
       "    }\n",
       "\n",
       "    .dataframe tbody tr th {\n",
       "        vertical-align: top;\n",
       "    }\n",
       "\n",
       "    .dataframe thead th {\n",
       "        text-align: right;\n",
       "    }\n",
       "</style>\n",
       "<table border=\"1\" class=\"dataframe\">\n",
       "  <thead>\n",
       "    <tr style=\"text-align: right;\">\n",
       "      <th></th>\n",
       "      <th>RA</th>\n",
       "      <th>Nome</th>\n",
       "      <th>Frequencia</th>\n",
       "      <th>Prova_1</th>\n",
       "      <th>Prova_2</th>\n",
       "      <th>Prova_3</th>\n",
       "      <th>Prova_4</th>\n",
       "      <th>Media</th>\n",
       "    </tr>\n",
       "  </thead>\n",
       "  <tbody>\n",
       "    <tr>\n",
       "      <th>0</th>\n",
       "      <td>110201</td>\n",
       "      <td>Antonio Carlos</td>\n",
       "      <td>20</td>\n",
       "      <td>6.5</td>\n",
       "      <td>8.5</td>\n",
       "      <td>7.0</td>\n",
       "      <td>6</td>\n",
       "      <td>7.0</td>\n",
       "    </tr>\n",
       "    <tr>\n",
       "      <th>1</th>\n",
       "      <td>110212</td>\n",
       "      <td>Ana Beatriz</td>\n",
       "      <td>20</td>\n",
       "      <td>7.0</td>\n",
       "      <td>7.0</td>\n",
       "      <td>7.0</td>\n",
       "      <td>8</td>\n",
       "      <td>7.0</td>\n",
       "    </tr>\n",
       "    <tr>\n",
       "      <th>2</th>\n",
       "      <td>110218</td>\n",
       "      <td>Carlos Vernes</td>\n",
       "      <td>17</td>\n",
       "      <td>7.0</td>\n",
       "      <td>7.0</td>\n",
       "      <td>7.0</td>\n",
       "      <td>7</td>\n",
       "      <td>7.0</td>\n",
       "    </tr>\n",
       "    <tr>\n",
       "      <th>3</th>\n",
       "      <td>110307</td>\n",
       "      <td>Francisco Cunha</td>\n",
       "      <td>20</td>\n",
       "      <td>9.0</td>\n",
       "      <td>8.5</td>\n",
       "      <td>8.5</td>\n",
       "      <td>10</td>\n",
       "      <td>9.0</td>\n",
       "    </tr>\n",
       "    <tr>\n",
       "      <th>4</th>\n",
       "      <td>110275</td>\n",
       "      <td>Sandra Rosa</td>\n",
       "      <td>15</td>\n",
       "      <td>6.5</td>\n",
       "      <td>7.5</td>\n",
       "      <td>7.0</td>\n",
       "      <td>7</td>\n",
       "      <td>7.0</td>\n",
       "    </tr>\n",
       "    <tr>\n",
       "      <th>5</th>\n",
       "      <td>110281</td>\n",
       "      <td>Juliana Arruda</td>\n",
       "      <td>18</td>\n",
       "      <td>7.5</td>\n",
       "      <td>7.0</td>\n",
       "      <td>7.5</td>\n",
       "      <td>8</td>\n",
       "      <td>8.0</td>\n",
       "    </tr>\n",
       "    <tr>\n",
       "      <th>6</th>\n",
       "      <td>110301</td>\n",
       "      <td>Joao Galo</td>\n",
       "      <td>20</td>\n",
       "      <td>5.0</td>\n",
       "      <td>6.5</td>\n",
       "      <td>7.0</td>\n",
       "      <td>5</td>\n",
       "      <td>6.0</td>\n",
       "    </tr>\n",
       "    <tr>\n",
       "      <th>7</th>\n",
       "      <td>110263</td>\n",
       "      <td>José Valente</td>\n",
       "      <td>20</td>\n",
       "      <td>10.0</td>\n",
       "      <td>10.0</td>\n",
       "      <td>10.0</td>\n",
       "      <td>10</td>\n",
       "      <td>10.0</td>\n",
       "    </tr>\n",
       "    <tr>\n",
       "      <th>8</th>\n",
       "      <td>110271</td>\n",
       "      <td>Maria Ferreira</td>\n",
       "      <td>19</td>\n",
       "      <td>9.5</td>\n",
       "      <td>8.0</td>\n",
       "      <td>7.0</td>\n",
       "      <td>10</td>\n",
       "      <td>9.0</td>\n",
       "    </tr>\n",
       "    <tr>\n",
       "      <th>9</th>\n",
       "      <td>110236</td>\n",
       "      <td>Adriana Tavares</td>\n",
       "      <td>20</td>\n",
       "      <td>8.0</td>\n",
       "      <td>8.0</td>\n",
       "      <td>8.0</td>\n",
       "      <td>8</td>\n",
       "      <td>8.0</td>\n",
       "    </tr>\n",
       "  </tbody>\n",
       "</table>\n",
       "</div>"
      ],
      "text/plain": [
       "       RA             Nome  Frequencia  Prova_1  Prova_2  Prova_3  Prova_4  \\\n",
       "0  110201   Antonio Carlos          20      6.5      8.5      7.0        6   \n",
       "1  110212      Ana Beatriz          20      7.0      7.0      7.0        8   \n",
       "2  110218    Carlos Vernes          17      7.0      7.0      7.0        7   \n",
       "3  110307  Francisco Cunha          20      9.0      8.5      8.5       10   \n",
       "4  110275      Sandra Rosa          15      6.5      7.5      7.0        7   \n",
       "5  110281   Juliana Arruda          18      7.5      7.0      7.5        8   \n",
       "6  110301        Joao Galo          20      5.0      6.5      7.0        5   \n",
       "7  110263     José Valente          20     10.0     10.0     10.0       10   \n",
       "8  110271   Maria Ferreira          19      9.5      8.0      7.0       10   \n",
       "9  110236  Adriana Tavares          20      8.0      8.0      8.0        8   \n",
       "\n",
       "   Media  \n",
       "0    7.0  \n",
       "1    7.0  \n",
       "2    7.0  \n",
       "3    9.0  \n",
       "4    7.0  \n",
       "5    8.0  \n",
       "6    6.0  \n",
       "7   10.0  \n",
       "8    9.0  \n",
       "9    8.0  "
      ]
     },
     "execution_count": 166,
     "metadata": {},
     "output_type": "execute_result"
    }
   ],
   "source": [
    "alunos_copia"
   ]
  },
  {
   "cell_type": "markdown",
   "id": "0f63593b",
   "metadata": {
    "heading_collapsed": true,
    "hidden": true
   },
   "source": [
    "## Exercício 4"
   ]
  },
  {
   "cell_type": "markdown",
   "id": "7b97291b",
   "metadata": {
    "hidden": true
   },
   "source": [
    "Você conhece Star Wars? Se trata, obviamente, da famosa saga espacial \n",
    "criada por George Lucas em 1977 e que deu origem a símbolos do cinema e \n",
    "da cultura pop com o imponente vilão Darth Vader ou o simpático robô \n",
    "R2-D2. A ideia desse exercício é justamente extrair informações do \n",
    "personagem Darth Vader através de uma API de Star Wars chamada SWAPI.\n",
    "Utilize a URL \"https://swapi.dev/api/people/4/\" para fazer a requisição dos \n",
    "dados de Darth Vader e extraia as informações \"name\" (nome), \"height\" \n",
    "(altura), \"mass\" (massa) e \"birth_year\" (ano de nascimento) e imprima cada \n",
    "dado em uma linha.\n",
    "Dica: caso não se lembre de como fazer isso, assista novamente a aula sobre \n",
    "API porque o exemplo da aula pode te ajudar."
   ]
  },
  {
   "cell_type": "code",
   "execution_count": 169,
   "id": "91c350a4",
   "metadata": {
    "hidden": true
   },
   "outputs": [],
   "source": [
    "import requests as req"
   ]
  },
  {
   "cell_type": "code",
   "execution_count": 172,
   "id": "0ffef9ea",
   "metadata": {
    "hidden": true
   },
   "outputs": [
    {
     "name": "stdout",
     "output_type": "stream",
     "text": [
      "<Response [200]>\n"
     ]
    }
   ],
   "source": [
    "url = 'https://swapi.dev/api/people/4/'\n",
    "resp = req.get(url)\n",
    "print(resp)"
   ]
  },
  {
   "cell_type": "code",
   "execution_count": 175,
   "id": "cf93af37",
   "metadata": {
    "hidden": true
   },
   "outputs": [],
   "source": [
    "df = resp.json()"
   ]
  },
  {
   "cell_type": "code",
   "execution_count": 186,
   "id": "ee98d62b",
   "metadata": {
    "hidden": true
   },
   "outputs": [],
   "source": [
    "info = ['name','height','mass','birth_year']"
   ]
  },
  {
   "cell_type": "code",
   "execution_count": 187,
   "id": "01528421",
   "metadata": {
    "hidden": true,
    "scrolled": true
   },
   "outputs": [
    {
     "name": "stdout",
     "output_type": "stream",
     "text": [
      "Darth Vader\n",
      "202\n",
      "136\n",
      "41.9BBY\n"
     ]
    }
   ],
   "source": [
    "for key in info:\n",
    "    print(df[key])"
   ]
  },
  {
   "cell_type": "markdown",
   "id": "b30e9272",
   "metadata": {
    "hidden": true
   },
   "source": [
    "## Exercício 5"
   ]
  },
  {
   "cell_type": "markdown",
   "id": "67807251",
   "metadata": {
    "hidden": true
   },
   "source": [
    "Em 2019 surgiram os primeiros casos de COVID-19 que se alastrou pelo \n",
    "mundo resultando numa pandemia. A proposta deste exercício é utilizar \n",
    "uma API com informações de COVID-19 do mundo todo desde o início da \n",
    "proliferação e descobrir que dia o Brasil confirmou o primeiro caso de \n",
    "Coronavírus.\n",
    "Para fazer isso, utilize a URL \"https://api.covid19api.com/country/brazil\" em seu \n",
    "código. Ela retorna uma lista de dicionários, onde cada dicionário traz \n",
    "informações através das chaves:\n",
    "\"ID\", \"Country\", \"CountryCode\", \"Province\", \"City\", \n",
    "\"CityCode\",\"Lat\",\"Lon\",\"Confirmed\",\"Deaths\", \"Recovered\", \"Active\" e \"Date\".\n",
    "Utilize essas informações e retorne a data em que o Brasil confirmou o \n",
    "primeiro caso de COVID"
   ]
  },
  {
   "cell_type": "code",
   "execution_count": 203,
   "id": "7a56a60f",
   "metadata": {
    "hidden": true
   },
   "outputs": [],
   "source": [
    "import requests as req"
   ]
  },
  {
   "cell_type": "code",
   "execution_count": 204,
   "id": "29aa088c",
   "metadata": {
    "hidden": true
   },
   "outputs": [
    {
     "name": "stdout",
     "output_type": "stream",
     "text": [
      "<Response [200]>\n"
     ]
    }
   ],
   "source": [
    "url = 'https://api.covid19api.com/country/brazil'\n",
    "resp = req.get(url)\n",
    "print(resp)"
   ]
  },
  {
   "cell_type": "code",
   "execution_count": 205,
   "id": "472a5e75",
   "metadata": {
    "hidden": true
   },
   "outputs": [],
   "source": [
    "df = resp.json()"
   ]
  },
  {
   "cell_type": "code",
   "execution_count": 215,
   "id": "71f52b5b",
   "metadata": {
    "hidden": true
   },
   "outputs": [
    {
     "name": "stdout",
     "output_type": "stream",
     "text": [
      "O primeiro caso de COVID-19 no Brasil foi na data 2020-02-26.\n"
     ]
    }
   ],
   "source": [
    "i = 0\n",
    "\n",
    "for i in range(0,len(df)):\n",
    "    if df[i]['Confirmed'] == 1:\n",
    "        data = df[i]['Date'][:10]\n",
    "        print(f'O primeiro caso de COVID-19 no Brasil foi na data {data}.')\n",
    "        break"
   ]
  },
  {
   "cell_type": "markdown",
   "id": "e4a148c2",
   "metadata": {},
   "source": [
    "# Módulo 3 (CSV)"
   ]
  }
 ],
 "metadata": {
  "kernelspec": {
   "display_name": "Python 3 (ipykernel)",
   "language": "python",
   "name": "python3"
  },
  "language_info": {
   "codemirror_mode": {
    "name": "ipython",
    "version": 3
   },
   "file_extension": ".py",
   "mimetype": "text/x-python",
   "name": "python",
   "nbconvert_exporter": "python",
   "pygments_lexer": "ipython3",
   "version": "3.9.12"
  },
  "notify_time": "5",
  "varInspector": {
   "cols": {
    "lenName": 16,
    "lenType": 16,
    "lenVar": 40
   },
   "kernels_config": {
    "python": {
     "delete_cmd_postfix": "",
     "delete_cmd_prefix": "del ",
     "library": "var_list.py",
     "varRefreshCmd": "print(var_dic_list())"
    },
    "r": {
     "delete_cmd_postfix": ") ",
     "delete_cmd_prefix": "rm(",
     "library": "var_list.r",
     "varRefreshCmd": "cat(var_dic_list()) "
    }
   },
   "types_to_exclude": [
    "module",
    "function",
    "builtin_function_or_method",
    "instance",
    "_Feature"
   ],
   "window_display": false
  }
 },
 "nbformat": 4,
 "nbformat_minor": 5
}
